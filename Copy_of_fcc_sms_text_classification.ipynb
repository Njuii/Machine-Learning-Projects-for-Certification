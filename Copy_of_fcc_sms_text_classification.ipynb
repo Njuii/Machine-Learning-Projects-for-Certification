{
  "cells": [
    {
      "cell_type": "markdown",
      "metadata": {
        "id": "view-in-github",
        "colab_type": "text"
      },
      "source": [
        "<a href=\"https://colab.research.google.com/github/Njuii/Machine-Learning-Projects-for-Certification/blob/main/Copy_of_fcc_sms_text_classification.ipynb\" target=\"_parent\"><img src=\"https://colab.research.google.com/assets/colab-badge.svg\" alt=\"Open In Colab\"/></a>"
      ]
    },
    {
      "cell_type": "code",
      "execution_count": null,
      "metadata": {
        "id": "8RZOuS9LWQvv"
      },
      "outputs": [],
      "source": [
        "# import libraries\n",
        "try:\n",
        "  # %tensorflow_version only exists in Colab.\n",
        "  !pip install tf-nightly\n",
        "except Exception:\n",
        "  pass\n",
        "import tensorflow as tf\n",
        "import pandas as pd\n",
        "from tensorflow import keras\n",
        "!pip install tensorflow-datasets\n",
        "import tensorflow_datasets as tfds\n",
        "import numpy as np\n",
        "import matplotlib.pyplot as plt\n",
        "\n",
        "print(tf.__version__)"
      ]
    },
    {
      "cell_type": "code",
      "execution_count": null,
      "metadata": {
        "id": "lMHwYXHXCar3",
        "colab": {
          "base_uri": "https://localhost:8080/"
        },
        "outputId": "cb823f0d-b94d-4ebf-daf2-aaa597bedb65"
      },
      "outputs": [
        {
          "output_type": "stream",
          "name": "stdout",
          "text": [
            "--2023-04-24 17:58:41--  https://cdn.freecodecamp.org/project-data/sms/train-data.tsv\n",
            "Resolving cdn.freecodecamp.org (cdn.freecodecamp.org)... 104.26.2.33, 104.26.3.33, 172.67.70.149, ...\n",
            "Connecting to cdn.freecodecamp.org (cdn.freecodecamp.org)|104.26.2.33|:443... connected.\n",
            "HTTP request sent, awaiting response... 200 OK\n",
            "Length: 358233 (350K) [text/tab-separated-values]\n",
            "Saving to: ‘train-data.tsv.2’\n",
            "\n",
            "train-data.tsv.2    100%[===================>] 349.84K   879KB/s    in 0.4s    \n",
            "\n",
            "2023-04-24 17:58:42 (879 KB/s) - ‘train-data.tsv.2’ saved [358233/358233]\n",
            "\n",
            "--2023-04-24 17:58:42--  https://cdn.freecodecamp.org/project-data/sms/valid-data.tsv\n",
            "Resolving cdn.freecodecamp.org (cdn.freecodecamp.org)... 104.26.2.33, 104.26.3.33, 172.67.70.149, ...\n",
            "Connecting to cdn.freecodecamp.org (cdn.freecodecamp.org)|104.26.2.33|:443... connected.\n",
            "HTTP request sent, awaiting response... 200 OK\n",
            "Length: 118774 (116K) [text/tab-separated-values]\n",
            "Saving to: ‘valid-data.tsv.2’\n",
            "\n",
            "valid-data.tsv.2    100%[===================>] 115.99K  --.-KB/s    in 0.03s   \n",
            "\n",
            "2023-04-24 17:58:43 (4.40 MB/s) - ‘valid-data.tsv.2’ saved [118774/118774]\n",
            "\n"
          ]
        }
      ],
      "source": [
        "# get data files\n",
        "!wget https://cdn.freecodecamp.org/project-data/sms/train-data.tsv\n",
        "!wget https://cdn.freecodecamp.org/project-data/sms/valid-data.tsv\n",
        "\n",
        "train_file_path = \"train-data.tsv\"\n",
        "test_file_path = \"valid-data.tsv\""
      ]
    },
    {
      "cell_type": "code",
      "execution_count": null,
      "metadata": {
        "id": "g_h508FEClxO",
        "colab": {
          "base_uri": "https://localhost:8080/"
        },
        "outputId": "3e8e9fe0-0781-4e5a-fb55-4a562ab57746"
      },
      "outputs": [
        {
          "output_type": "execute_result",
          "data": {
            "text/plain": [
              "0     0\n",
              "1     0\n",
              "2     0\n",
              "3     0\n",
              "4     0\n",
              "5     0\n",
              "6     0\n",
              "7     0\n",
              "8     1\n",
              "9     0\n",
              "10    0\n",
              "11    0\n",
              "12    0\n",
              "13    0\n",
              "14    0\n",
              "15    0\n",
              "16    1\n",
              "17    0\n",
              "18    0\n",
              "19    0\n",
              "Name: class, dtype: int64"
            ]
          },
          "metadata": {},
          "execution_count": 148
        }
      ],
      "source": [
        "# Converting tsv to df\n",
        "train_data = pd.read_csv(train_file_path, sep=\"\\t\", names=[\"class\", \"text\"])\n",
        "test_data = pd.read_csv(test_file_path, sep=\"\\t\", names=[\"class\", \"text\"])\n",
        "\n",
        "# Changing class from categorical to numeric\n",
        "train_data['class'].replace(['ham','spam'],[0,1],inplace = True)\n",
        "test_data['class'].replace(['ham','spam'],[0,1],inplace = True)\n",
        "\n",
        "# Creating labels\n",
        "train_labels = train_data.pop('class')\n",
        "test_labels = test_data.pop('class')\n",
        "\n",
        "train_labels.head(20)"
      ]
    },
    {
      "cell_type": "code",
      "execution_count": null,
      "metadata": {
        "id": "zOMKywn4zReN",
        "colab": {
          "base_uri": "https://localhost:8080/"
        },
        "outputId": "5b436ae8-47b7-4c38-87aa-1c9647ee621b"
      },
      "outputs": [
        {
          "output_type": "execute_result",
          "data": {
            "text/plain": [
              "array([   0,    0,    0,    0,    0,    0,    0,    0,    0,    0,    0,\n",
              "          0,    0,    0,    0,    0,    0,    0,    0,    0,    0,    0,\n",
              "          0,    0,    0,    0,    0,    0,    0,    0,    0,    0,    0,\n",
              "          0,    0,    0,    0,    0,    0,    0,    0,    0,    0,    0,\n",
              "          0,    0,    0,    0,    0,    0,    0,    0,    0,    0,    0,\n",
              "          0,    0,    0,    0,    0,    0,    0,    0,    0,    0,    0,\n",
              "          0,    0,    0,    0,    0,    0,    0,    0,    0,    0,    0,\n",
              "          0,    0, 7632, 2425, 3973,    5,  404,  824,   79,    7, 4156,\n",
              "          3,   47,   57,    7,  153,   22,    3,  177,   56,  165,   79,\n",
              "       2256,  107,   26,    3,  302,   23,   43,   13,   16,    0,    0,\n",
              "          0,    0,    0,    0,    0,    0,    0,    0,    0,    0,    0,\n",
              "          0,    0,    0,    0,    0,    0,    0,    0,    0,    0,    0,\n",
              "          0,    0,    0,    0,    0,    0,    0,    0,    0,    0,    0,\n",
              "          0,    0,    0,    0,    0,    0,    0,    0,    0,    0,    0,\n",
              "          0,    0,    0,    0,    0,    0,    0,    0,    0,    0,    0,\n",
              "          0,    0,    0,    0,    0,    0,    0,    0,    0,    0,    0,\n",
              "          0,    0,    0,    0,    0,    0,    0,    0,    0,    0,    0,\n",
              "          0,    0,    0,    0,    0,    0,    0,    0,    0,    0,    0,\n",
              "          0,    0,    0,    0,    0,    0,    0,    0,    0,    0,    0,\n",
              "          0,    0,    0,    0,    0,    0,    0,    0,    0,    0,    0,\n",
              "          0,    0,    0,    0,    0,    0,    0,    0,    0,    0,    0,\n",
              "          0,    0,    0,    0,    0,    0,    0,    0,    0,    0,    0,\n",
              "          0,    0,    0,    0,    0,    0,    0,    0], dtype=int32)"
            ]
          },
          "metadata": {},
          "execution_count": 138
        }
      ],
      "source": [
        "# Model\n",
        "\n",
        "# Text vectorisation Layer\n",
        "encoder = keras.layers.TextVectorization(output_mode='int')\n",
        "\n",
        "encoder.adapt(train_data)\n",
        "\n",
        "# Padding text to make same length\n",
        "vectorised_train_data = keras.preprocessing.sequence.pad_sequences(encoder(train_data), 250)\n",
        "vectorised_test_data = keras.preprocessing.sequence.pad_sequences(encoder(test_data), 250)\n",
        "\n",
        "\n",
        "vectorised_train_data[0]"
      ]
    },
    {
      "cell_type": "code",
      "source": [
        "# Defining the model\n",
        "model = keras.Sequential([\n",
        "    keras.layers.Embedding(\n",
        "        input_dim=len(encoder.get_vocabulary()),\n",
        "        output_dim=64),\n",
        "    # keras.layers.LSTM(64),\n",
        "    # keras.layers.SimpleRNN(64, return_sequences=True),\n",
        "    keras.layers.Bidirectional(tf.keras.layers.LSTM(64,  return_sequences=True)),\n",
        "    # keras.layers.Bidirectional(tf.keras.layers.LSTM(32)),\n",
        "    keras.layers.Dense(64, activation='relu'),\n",
        "    keras.layers.Dense(1, activation=\"sigmoid\")\n",
        "])\n",
        "model.summary()"
      ],
      "metadata": {
        "colab": {
          "base_uri": "https://localhost:8080/"
        },
        "id": "3QPLuk7qOhSw",
        "outputId": "64ac611a-741f-41e5-c4dc-39e8bbabdc65"
      },
      "execution_count": null,
      "outputs": [
        {
          "output_type": "stream",
          "name": "stdout",
          "text": [
            "Model: \"sequential_30\"\n",
            "_________________________________________________________________\n",
            " Layer (type)                Output Shape              Param #   \n",
            "=================================================================\n",
            " embedding_24 (Embedding)    (None, None, 64)          523584    \n",
            "                                                                 \n",
            " bidirectional_8 (Bidirecti  (None, None, 128)         66048     \n",
            " onal)                                                           \n",
            "                                                                 \n",
            " dense_42 (Dense)            (None, None, 64)          8256      \n",
            "                                                                 \n",
            " dense_43 (Dense)            (None, None, 1)           65        \n",
            "                                                                 \n",
            "=================================================================\n",
            "Total params: 597953 (2.28 MB)\n",
            "Trainable params: 597953 (2.28 MB)\n",
            "Non-trainable params: 0 (0.00 Byte)\n",
            "_________________________________________________________________\n"
          ]
        }
      ]
    },
    {
      "cell_type": "code",
      "source": [
        "# Compiling the model\n",
        "model.compile(loss=\"binary_crossentropy\",optimizer=\"rmsprop\",metrics='accuracy')"
      ],
      "metadata": {
        "id": "M4jXKHaLnjDo"
      },
      "execution_count": null,
      "outputs": []
    },
    {
      "cell_type": "code",
      "source": [
        "# Training the model\n",
        "history = model.fit(\n",
        "    vectorised_train_data, \n",
        "    train_labels, \n",
        "    epochs=10, \n",
        "    validation_split=0.2,\n",
        "    shuffle = True\n",
        "    )"
      ],
      "metadata": {
        "colab": {
          "base_uri": "https://localhost:8080/"
        },
        "id": "oBOHsU0kntcm",
        "outputId": "4da9ef60-58ad-4905-d0e5-ec391169c701"
      },
      "execution_count": null,
      "outputs": [
        {
          "output_type": "stream",
          "name": "stdout",
          "text": [
            "Epoch 1/10\n",
            "105/105 [==============================] - 53s 458ms/step - loss: 0.4011 - accuracy: 0.8672 - val_loss: 0.4053 - val_accuracy: 0.8612\n",
            "Epoch 2/10\n",
            "105/105 [==============================] - 40s 378ms/step - loss: 0.3899 - accuracy: 0.8673 - val_loss: 0.4244 - val_accuracy: 0.8613\n",
            "Epoch 3/10\n",
            "105/105 [==============================] - 42s 404ms/step - loss: 0.2473 - accuracy: 0.9246 - val_loss: 0.1214 - val_accuracy: 0.9689\n",
            "Epoch 4/10\n",
            "105/105 [==============================] - 40s 379ms/step - loss: 0.1526 - accuracy: 0.9601 - val_loss: 0.0988 - val_accuracy: 0.9762\n",
            "Epoch 5/10\n",
            "105/105 [==============================] - 39s 376ms/step - loss: 0.0911 - accuracy: 0.9800 - val_loss: 0.0844 - val_accuracy: 0.9796\n",
            "Epoch 6/10\n",
            "105/105 [==============================] - 39s 377ms/step - loss: 0.0671 - accuracy: 0.9873 - val_loss: 0.0848 - val_accuracy: 0.9822\n",
            "Epoch 7/10\n",
            "105/105 [==============================] - 48s 453ms/step - loss: 0.0580 - accuracy: 0.9894 - val_loss: 0.1114 - val_accuracy: 0.9744\n",
            "Epoch 8/10\n",
            "105/105 [==============================] - 40s 377ms/step - loss: 0.0451 - accuracy: 0.9924 - val_loss: 0.1855 - val_accuracy: 0.9657\n",
            "Epoch 9/10\n",
            "105/105 [==============================] - 40s 379ms/step - loss: 0.0405 - accuracy: 0.9933 - val_loss: 0.1085 - val_accuracy: 0.9796\n",
            "Epoch 10/10\n",
            "105/105 [==============================] - 44s 413ms/step - loss: 0.0766 - accuracy: 0.9875 - val_loss: 0.1240 - val_accuracy: 0.9755\n"
          ]
        }
      ]
    },
    {
      "cell_type": "code",
      "source": [
        "# Evaluate the model\n",
        "results = model.evaluate(vectorised_test_data,test_labels)\n",
        "print(results)"
      ],
      "metadata": {
        "colab": {
          "base_uri": "https://localhost:8080/"
        },
        "id": "YntKTFAAwgRg",
        "outputId": "8831f93b-6ba1-41dc-bd20-9b9691e707ef"
      },
      "execution_count": null,
      "outputs": [
        {
          "output_type": "stream",
          "name": "stdout",
          "text": [
            "44/44 [==============================] - 6s 128ms/step - loss: 0.1283 - accuracy: 0.9757\n",
            "[0.12828968465328217, 0.9757041335105896]\n"
          ]
        }
      ]
    },
    {
      "cell_type": "code",
      "source": [
        "# Tests - to see how I can implement my encoder\n",
        "pred_text = \"how are you doing today?\"\n",
        "pred_text = pd.DataFrame([pred_text])\n",
        "\n",
        "vectorised_input = encoder(pred_text)\n",
        "vectorised_input = keras.preprocessing.sequence.pad_sequences(vectorised_input, 250)\n",
        "prediction = model.predict(vectorised_input)\n",
        "\n",
        "float(np.mean(prediction[0]))"
      ],
      "metadata": {
        "colab": {
          "base_uri": "https://localhost:8080/"
        },
        "id": "fOjGhSFbVjCh",
        "outputId": "134ff8b4-0cde-4ee3-b025-f3864bccb313"
      },
      "execution_count": null,
      "outputs": [
        {
          "output_type": "stream",
          "name": "stdout",
          "text": [
            "1/1 [==============================] - 0s 70ms/step\n"
          ]
        },
        {
          "output_type": "execute_result",
          "data": {
            "text/plain": [
              "0.004078678786754608"
            ]
          },
          "metadata": {},
          "execution_count": 230
        }
      ]
    },
    {
      "cell_type": "code",
      "execution_count": null,
      "metadata": {
        "id": "J9tD9yACG6M9",
        "colab": {
          "base_uri": "https://localhost:8080/"
        },
        "outputId": "d17e6122-7f25-4bf1-ed64-469d0827a630"
      },
      "outputs": [
        {
          "output_type": "stream",
          "name": "stdout",
          "text": [
            "1/1 [==============================] - 0s 53ms/step\n",
            "['0.004078678786754608' 'ham']\n"
          ]
        }
      ],
      "source": [
        "# function to predict messages based on model\n",
        "# (should return list containing prediction and label, ex. [0.008318834938108921, 'ham'])\n",
        "def predict_message(pred_text):\n",
        "  pred_text = pd.DataFrame([pred_text])\n",
        "\n",
        "  vectorised_input = encoder(pred_text)\n",
        "  vectorised_input = keras.preprocessing.sequence.pad_sequences(vectorised_input, 250)\n",
        "  prediction = float(np.mean(model.predict(vectorised_input)))\n",
        "\n",
        "  if prediction < 0.5:\n",
        "    prediction_word = 'ham'\n",
        "  else:\n",
        "    prediction_word = 'spam'\n",
        "  return np.array([prediction, prediction_word])\n",
        "\n",
        "pred_text = \"how are you doing today?\"\n",
        "\n",
        "prediction = predict_message(pred_text)\n",
        "print(prediction)"
      ]
    },
    {
      "cell_type": "code",
      "execution_count": null,
      "metadata": {
        "id": "Dxotov85SjsC",
        "colab": {
          "base_uri": "https://localhost:8080/"
        },
        "outputId": "7489855a-c037-451f-aa9b-c00846ec4f4c"
      },
      "outputs": [
        {
          "output_type": "stream",
          "name": "stdout",
          "text": [
            "1/1 [==============================] - 0s 41ms/step\n",
            "1/1 [==============================] - 0s 43ms/step\n",
            "1/1 [==============================] - 0s 44ms/step\n",
            "1/1 [==============================] - 0s 43ms/step\n",
            "1/1 [==============================] - 0s 48ms/step\n",
            "1/1 [==============================] - 0s 44ms/step\n",
            "1/1 [==============================] - 0s 41ms/step\n",
            "You passed the challenge. Great job!\n"
          ]
        }
      ],
      "source": [
        "# Run this cell to test your function and model. Do not modify contents.\n",
        "def test_predictions():\n",
        "  test_messages = [\"how are you doing today\",\n",
        "                   \"sale today! to stop texts call 98912460324\",\n",
        "                   \"i dont want to go. can we try it a different day? available sat\",\n",
        "                   \"our new mobile video service is live. just install on your phone to start watching.\",\n",
        "                   \"you have won £1000 cash! call to claim your prize.\",\n",
        "                   \"i'll bring it tomorrow. don't forget the milk.\",\n",
        "                   \"wow, is your arm alright. that happened to me one time too\"\n",
        "                  ]\n",
        "\n",
        "  test_answers = [\"ham\", \"spam\", \"ham\", \"spam\", \"spam\", \"ham\", \"ham\"]\n",
        "  passed = True\n",
        "\n",
        "  for msg, ans in zip(test_messages, test_answers):\n",
        "    prediction = predict_message(msg)\n",
        "    if prediction[1] != ans:\n",
        "      passed = False\n",
        "\n",
        "  if passed:\n",
        "    print(\"You passed the challenge. Great job!\")\n",
        "  else:\n",
        "    print(\"You haven't passed yet. Keep trying.\")\n",
        "\n",
        "test_predictions()\n"
      ]
    },
    {
      "cell_type": "code",
      "source": [],
      "metadata": {
        "id": "6kMj2fqkawMV"
      },
      "execution_count": null,
      "outputs": []
    }
  ],
  "metadata": {
    "colab": {
      "provenance": [],
      "include_colab_link": true
    },
    "kernelspec": {
      "display_name": "Python 3",
      "name": "python3"
    },
    "language_info": {},
    "gpuClass": "standard"
  },
  "nbformat": 4,
  "nbformat_minor": 0
}